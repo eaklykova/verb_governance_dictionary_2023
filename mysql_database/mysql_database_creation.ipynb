{
 "cells": [
  {
   "cell_type": "markdown",
   "id": "ab558691",
   "metadata": {},
   "source": [
    "# База данных для СГУ"
   ]
  },
  {
   "cell_type": "code",
   "execution_count": 1,
   "id": "8a41bce1",
   "metadata": {},
   "outputs": [],
   "source": [
    "# !pip install mysql-connector-python\n",
    "import os\n",
    "import pickle\n",
    "import mysql.connector\n",
    "from tqdm.auto import tqdm"
   ]
  },
  {
   "cell_type": "code",
   "execution_count": 2,
   "id": "e03ea25c",
   "metadata": {},
   "outputs": [],
   "source": [
    "with open('mysql_password.txt', 'r', encoding='utf-8') as f:\n",
    "    pwd = f.read().strip()"
   ]
  },
  {
   "cell_type": "code",
   "execution_count": 3,
   "id": "6b0756a2",
   "metadata": {},
   "outputs": [],
   "source": [
    "con = mysql.connector.connect(host='127.0.0.1', port=3306,\n",
    "                              user='root', password=pwd)\n",
    "cur = con.cursor(dictionary=True)"
   ]
  },
  {
   "cell_type": "markdown",
   "id": "d96a3d0c",
   "metadata": {},
   "source": [
    "## Создание схемы и таблиц"
   ]
  },
  {
   "cell_type": "code",
   "execution_count": 7,
   "id": "1d6a9300",
   "metadata": {},
   "outputs": [],
   "source": [
    "cur.execute(\"\"\"\n",
    "CREATE SCHEMA IF NOT EXISTS verb_governance_corpus DEFAULT CHARACTER SET utf8\n",
    "\"\"\")"
   ]
  },
  {
   "cell_type": "code",
   "execution_count": 8,
   "id": "f6b369cf",
   "metadata": {},
   "outputs": [],
   "source": [
    "con = mysql.connector.connect(host='127.0.0.1', port=3306,\n",
    "                              database='verb_governance_corpus', user='root',\n",
    "                              password=pwd)\n",
    "cur = con.cursor(dictionary=True, buffered=True)"
   ]
  },
  {
   "cell_type": "code",
   "execution_count": 9,
   "id": "05b8b775",
   "metadata": {},
   "outputs": [],
   "source": [
    "cur.execute(\"\"\"\n",
    "CREATE TABLE IF NOT EXISTS co_occurrences (\n",
    "  id_occurrence INT NOT NULL AUTO_INCREMENT,\n",
    "  occurrence_freq INT NOT NULL,\n",
    "  verb_lemma VARCHAR(32) NOT NULL,\n",
    "  prepostion VARCHAR(64) NULL,\n",
    "  gram_case VARCHAR(32) NOT NULL,\n",
    "  noun_lemma VARCHAR(32) NOT NULL,\n",
    "  PRIMARY KEY (id_occurrence),\n",
    "  UNIQUE INDEX id_occurrence_UNIQUE (id_occurrence ASC) VISIBLE,\n",
    "  INDEX verb_lemma_NU (verb_lemma ASC) VISIBLE,\n",
    "  INDEX prepostion_NU (prepostion ASC) VISIBLE,\n",
    "  INDEX gram_case_NU (gram_case ASC) VISIBLE,\n",
    "  INDEX noun_lemma_NU (noun_lemma ASC) VISIBLE);\n",
    "  \"\"\")"
   ]
  },
  {
   "cell_type": "code",
   "execution_count": 10,
   "id": "419611be",
   "metadata": {},
   "outputs": [],
   "source": [
    "cur.execute(\"\"\"\n",
    "CREATE TABLE IF NOT EXISTS examples (\n",
    "  id_example INT NOT NULL AUTO_INCREMENT,\n",
    "  example_text TEXT NOT NULL,\n",
    "  verb_pos_start INT NOT NULL,\n",
    "  verb_pos_end INT NOT NULL,\n",
    "  prep_pos_start INT NOT NULL,\n",
    "  prep_pos_end INT NOT NULL,\n",
    "  noun_pos_start INT NOT NULL,\n",
    "  noun_pos_end INT NOT NULL,\n",
    "  PRIMARY KEY (id_example),\n",
    "  UNIQUE INDEX id_example_UNIQUE (id_example ASC) VISIBLE);\n",
    "  \"\"\")"
   ]
  },
  {
   "cell_type": "code",
   "execution_count": 11,
   "id": "16d5d78c",
   "metadata": {},
   "outputs": [],
   "source": [
    "cur.execute(\"\"\"\n",
    "CREATE TABLE IF NOT EXISTS comb_to_example (\n",
    "  id_occurrence INT NOT NULL,\n",
    "  id_example INT NOT NULL,\n",
    "  FOREIGN KEY (id_occurrence) REFERENCES co_occurrences (id_occurrence),\n",
    "  FOREIGN KEY (id_example) REFERENCES examples (id_example));\n",
    "  \"\"\")"
   ]
  }
 ],
 "metadata": {
  "kernelspec": {
   "display_name": "Python 3 (ipykernel)",
   "language": "python",
   "name": "python3"
  },
  "language_info": {
   "codemirror_mode": {
    "name": "ipython",
    "version": 3
   },
   "file_extension": ".py",
   "mimetype": "text/x-python",
   "name": "python",
   "nbconvert_exporter": "python",
   "pygments_lexer": "ipython3",
   "version": "3.9.13"
  }
 },
 "nbformat": 4,
 "nbformat_minor": 5
}
